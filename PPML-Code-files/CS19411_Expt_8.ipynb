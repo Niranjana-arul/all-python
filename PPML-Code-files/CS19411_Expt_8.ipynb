{
  "nbformat": 4,
  "nbformat_minor": 0,
  "metadata": {
    "colab": {
      "provenance": []
    },
    "kernelspec": {
      "name": "python3",
      "display_name": "Python 3"
    },
    "language_info": {
      "name": "python"
    }
  },
  "cells": [
    {
      "cell_type": "markdown",
      "source": [
        "## **Ex. No.8 - Standardize and normalize Patient Biometrics Data**\n",
        "\n",
        "\n",
        "---\n",
        "\n",
        "Niranjana A\n",
        "\n",
        "220301061\n",
        "\n",
        "III BME - \"A\""
      ],
      "metadata": {
        "id": "KqwS0wXP6rcA"
      }
    },
    {
      "cell_type": "code",
      "execution_count": null,
      "metadata": {
        "id": "XHNRCUO156nN"
      },
      "outputs": [],
      "source": [
        "import pandas as pd\n",
        "from sklearn.datasets import load_breast_cancer\n",
        "from sklearn.preprocessing import StandardScaler, MinMaxScaler"
      ]
    },
    {
      "cell_type": "code",
      "source": [
        "breast_cancer = load_breast_cancer()\n",
        "df = pd.DataFrame(breast_cancer.data, columns=breast_cancer.feature_names)\n",
        "df['target_variable'] = breast_cancer.target\n",
        "print(df)"
      ],
      "metadata": {
        "colab": {
          "base_uri": "https://localhost:8080/"
        },
        "id": "00ZGNm-r6SAE",
        "outputId": "c1e13902-fb40-450a-edce-85c3947d150b"
      },
      "execution_count": null,
      "outputs": [
        {
          "output_type": "stream",
          "name": "stdout",
          "text": [
            "     mean radius  mean texture  ...  worst fractal dimension  target_variable\n",
            "0          17.99         10.38  ...                  0.11890                0\n",
            "1          20.57         17.77  ...                  0.08902                0\n",
            "2          19.69         21.25  ...                  0.08758                0\n",
            "3          11.42         20.38  ...                  0.17300                0\n",
            "4          20.29         14.34  ...                  0.07678                0\n",
            "..           ...           ...  ...                      ...              ...\n",
            "564        21.56         22.39  ...                  0.07115                0\n",
            "565        20.13         28.25  ...                  0.06637                0\n",
            "566        16.60         28.08  ...                  0.07820                0\n",
            "567        20.60         29.33  ...                  0.12400                0\n",
            "568         7.76         24.54  ...                  0.07039                1\n",
            "\n",
            "[569 rows x 31 columns]\n"
          ]
        }
      ]
    },
    {
      "cell_type": "code",
      "source": [
        "X = df.drop('target_variable', axis=1)  # features\n",
        "y = df['target_variable']  # target variable\n",
        "print(X)\n",
        "print(y)"
      ],
      "metadata": {
        "colab": {
          "base_uri": "https://localhost:8080/"
        },
        "id": "gsEZlW626UhB",
        "outputId": "cfd5dabb-f88f-44a1-c94b-840687029bdf"
      },
      "execution_count": null,
      "outputs": [
        {
          "output_type": "stream",
          "name": "stdout",
          "text": [
            "     mean radius  mean texture  ...  worst symmetry  worst fractal dimension\n",
            "0          17.99         10.38  ...          0.4601                  0.11890\n",
            "1          20.57         17.77  ...          0.2750                  0.08902\n",
            "2          19.69         21.25  ...          0.3613                  0.08758\n",
            "3          11.42         20.38  ...          0.6638                  0.17300\n",
            "4          20.29         14.34  ...          0.2364                  0.07678\n",
            "..           ...           ...  ...             ...                      ...\n",
            "564        21.56         22.39  ...          0.2060                  0.07115\n",
            "565        20.13         28.25  ...          0.2572                  0.06637\n",
            "566        16.60         28.08  ...          0.2218                  0.07820\n",
            "567        20.60         29.33  ...          0.4087                  0.12400\n",
            "568         7.76         24.54  ...          0.2871                  0.07039\n",
            "\n",
            "[569 rows x 30 columns]\n",
            "0      0\n",
            "1      0\n",
            "2      0\n",
            "3      0\n",
            "4      0\n",
            "      ..\n",
            "564    0\n",
            "565    0\n",
            "566    0\n",
            "567    0\n",
            "568    1\n",
            "Name: target_variable, Length: 569, dtype: int64\n"
          ]
        }
      ]
    },
    {
      "cell_type": "code",
      "source": [
        "scaler_std = StandardScaler()\n",
        "X_std = scaler_std.fit_transform(X)\n",
        "\n",
        "scaler_mm = MinMaxScaler()\n",
        "X_mm = scaler_mm.fit_transform(X)"
      ],
      "metadata": {
        "id": "KkLVfevo6l_M"
      },
      "execution_count": null,
      "outputs": []
    },
    {
      "cell_type": "code",
      "source": [
        "df_std = pd.concat([pd.DataFrame(X_std, columns=X.columns), y], axis=1)\n",
        "df_mm = pd.concat([pd.DataFrame(X_mm, columns=X.columns), y], axis=1)\n",
        "print(\"The standardised (using z-scored normalization) data is:\\n\", df_std)\n",
        "print(\"\\nThe normalized (using min-max scaling) data is:\\n\", df_mm)"
      ],
      "metadata": {
        "colab": {
          "base_uri": "https://localhost:8080/"
        },
        "id": "4h5SEa8t6hSX",
        "outputId": "4f30acdf-f830-4a10-8d1e-ca0e97070ed5"
      },
      "execution_count": null,
      "outputs": [
        {
          "output_type": "stream",
          "name": "stdout",
          "text": [
            "The standardised (using z-scored normalization) data is:\n",
            "      mean radius  mean texture  ...  worst fractal dimension  target_variable\n",
            "0       1.097064     -2.073335  ...                 1.937015                0\n",
            "1       1.829821     -0.353632  ...                 0.281190                0\n",
            "2       1.579888      0.456187  ...                 0.201391                0\n",
            "3      -0.768909      0.253732  ...                 4.935010                0\n",
            "4       1.750297     -1.151816  ...                -0.397100                0\n",
            "..           ...           ...  ...                      ...              ...\n",
            "564     2.110995      0.721473  ...                -0.709091                0\n",
            "565     1.704854      2.085134  ...                -0.973978                0\n",
            "566     0.702284      2.045574  ...                -0.318409                0\n",
            "567     1.838341      2.336457  ...                 2.219635                0\n",
            "568    -1.808401      1.221792  ...                -0.751207                1\n",
            "\n",
            "[569 rows x 31 columns]\n",
            "\n",
            "The normalized (using min-max scaling) data is:\n",
            "      mean radius  mean texture  ...  worst fractal dimension  target_variable\n",
            "0       0.521037      0.022658  ...                 0.418864                0\n",
            "1       0.643144      0.272574  ...                 0.222878                0\n",
            "2       0.601496      0.390260  ...                 0.213433                0\n",
            "3       0.210090      0.360839  ...                 0.773711                0\n",
            "4       0.629893      0.156578  ...                 0.142595                0\n",
            "..           ...           ...  ...                      ...              ...\n",
            "564     0.690000      0.428813  ...                 0.105667                0\n",
            "565     0.622320      0.626987  ...                 0.074315                0\n",
            "566     0.455251      0.621238  ...                 0.151909                0\n",
            "567     0.644564      0.663510  ...                 0.452315                0\n",
            "568     0.036869      0.501522  ...                 0.100682                1\n",
            "\n",
            "[569 rows x 31 columns]\n"
          ]
        }
      ]
    }
  ]
}