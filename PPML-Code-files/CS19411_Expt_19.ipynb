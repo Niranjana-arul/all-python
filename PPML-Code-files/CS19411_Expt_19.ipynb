{
  "nbformat": 4,
  "nbformat_minor": 0,
  "metadata": {
    "colab": {
      "provenance": []
    },
    "kernelspec": {
      "name": "python3",
      "display_name": "Python 3"
    },
    "language_info": {
      "name": "python"
    }
  },
  "cells": [
    {
      "cell_type": "markdown",
      "source": [
        "## **Ex. No. 19 - TRAIN AND EVALUATE A LINEAR REGRESSION MODEL TO PREDICT PATIENT BLOOD PRESSURE**\n",
        "---\n",
        "Niranjana A\n",
        "\n",
        "220301061\n",
        "\n",
        "III BME - \"A\"\n",
        "\n",
        "---"
      ],
      "metadata": {
        "id": "X8ggomtGlLQt"
      }
    },
    {
      "cell_type": "code",
      "source": [
        "from google.colab import drive\n",
        "drive.mount('/content/drive')"
      ],
      "metadata": {
        "colab": {
          "base_uri": "https://localhost:8080/"
        },
        "id": "icSW43usqsWw",
        "outputId": "63b66b19-78e2-4013-f92f-db0ddd7e00ce"
      },
      "execution_count": null,
      "outputs": [
        {
          "output_type": "stream",
          "name": "stdout",
          "text": [
            "Mounted at /content/drive\n"
          ]
        }
      ]
    },
    {
      "cell_type": "code",
      "source": [
        "import pandas as pd\n",
        "import matplotlib.pyplot as plt\n",
        "import numpy as np\n",
        "import seaborn as sns\n",
        "from sklearn.model_selection import train_test_split\n",
        "from sklearn.linear_model import LinearRegression, Ridge\n",
        "from sklearn.metrics import mean_squared_error, r2_score, explained_variance_score\n",
        "from sklearn.preprocessing import PolynomialFeatures"
      ],
      "metadata": {
        "id": "hfpV2t7GsEfy"
      },
      "execution_count": null,
      "outputs": []
    },
    {
      "cell_type": "code",
      "source": [
        "df = pd.read_csv(\"/content/drive/MyDrive/Datasets/heart_failure.csv\")\n",
        "df.info()"
      ],
      "metadata": {
        "colab": {
          "base_uri": "https://localhost:8080/"
        },
        "id": "wwBMxe3eqtQl",
        "outputId": "f6185c6c-2e0d-42a2-803e-bd697997c69b",
        "collapsed": true
      },
      "execution_count": null,
      "outputs": [
        {
          "output_type": "stream",
          "name": "stdout",
          "text": [
            "<class 'pandas.core.frame.DataFrame'>\n",
            "RangeIndex: 918 entries, 0 to 917\n",
            "Data columns (total 12 columns):\n",
            " #   Column          Non-Null Count  Dtype  \n",
            "---  ------          --------------  -----  \n",
            " 0   Age             918 non-null    int64  \n",
            " 1   Sex             918 non-null    object \n",
            " 2   ChestPainType   918 non-null    object \n",
            " 3   RestingBP       918 non-null    int64  \n",
            " 4   Cholesterol     918 non-null    int64  \n",
            " 5   FastingBS       918 non-null    int64  \n",
            " 6   RestingECG      918 non-null    object \n",
            " 7   MaxHR           918 non-null    int64  \n",
            " 8   ExerciseAngina  918 non-null    object \n",
            " 9   Oldpeak         918 non-null    float64\n",
            " 10  ST_Slope        918 non-null    object \n",
            " 11  HeartDisease    918 non-null    int64  \n",
            "dtypes: float64(1), int64(6), object(5)\n",
            "memory usage: 86.2+ KB\n"
          ]
        }
      ]
    },
    {
      "source": [
        "# @title\n",
        "# Handle missing values (if any)\n",
        "df = df.dropna()  # Remove rows with missing values\n",
        "\n",
        "# Select features and target variable\n",
        "X = df[[\"Age\",\"Sex\",\"FastingBS\",\"MaxHR\",\"RestingECG\"]]\n",
        "y = df[\"RestingBP\"]\n",
        "X = pd.get_dummies(X, columns=['Sex', 'RestingECG'], drop_first=True) # Assuming these are your categorical columns\n",
        "\n",
        "# Split data into training and testing sets\n",
        "X_train, X_test, y_train, y_test = train_test_split(X, y, test_size=0.2, random_state=42)  # Adjust test_size and random_state\n",
        "\n",
        "# Create and train the Linear Regression model\n",
        "model = LinearRegression()\n",
        "model.fit(X_train, y_train)\n",
        "\n",
        "# Make predictions on the test set\n",
        "y_pred = model.predict(X_test)\n",
        "\n",
        "# Evaluate the model using MSE and R-squared\n",
        "mse = mean_squared_error(y_test, y_pred)\n",
        "r2 = r2_score(y_test, y_pred)\n",
        "var = explained_variance_score(y_test, y_pred)\n",
        "print(f\"Mean Squared Error: {mse}\")\n",
        "print(f\"Variance:{var}\")\n",
        "print(f\"R-squared: {r2}\")"
      ],
      "cell_type": "code",
      "metadata": {
        "colab": {
          "base_uri": "https://localhost:8080/"
        },
        "id": "3CP9nMAytGWL",
        "outputId": "e66520fc-55ca-4047-d235-ae35f2539733",
        "collapsed": true
      },
      "execution_count": null,
      "outputs": [
        {
          "output_type": "stream",
          "name": "stdout",
          "text": [
            "Mean Squared Error: 356.0105928218818\n",
            "Variance:-0.0052727293229319905\n",
            "R-squared: -0.03198058410324278\n"
          ]
        }
      ]
    },
    {
      "cell_type": "code",
      "source": [
        "print('model predictions: ')\n",
        "print(y_pred[0:25])\n",
        "print()\n",
        "print('Actual values: ')\n",
        "print(y_test[0:25])"
      ],
      "metadata": {
        "colab": {
          "base_uri": "https://localhost:8080/"
        },
        "id": "9M5R2s5Ewpjt",
        "outputId": "f5918411-caf7-48c2-8a1e-93312b6d87ff",
        "collapsed": true
      },
      "execution_count": null,
      "outputs": [
        {
          "output_type": "stream",
          "name": "stdout",
          "text": [
            "model predictions: \n",
            "[135.08492052 131.94270713 141.58003623 135.61610129 131.87833699\n",
            " 138.69590751 136.03419201 141.97302316 128.0294068  136.9519535\n",
            " 134.7545763  139.36520042 136.80821475 132.39574045 136.59390918\n",
            " 125.52976315 136.57129537 133.33047208 124.78863041 139.49085516\n",
            " 141.00331908 128.70597206 124.70272214 135.91812351 142.73843659]\n",
            "\n",
            "Actual values: \n",
            "668    140\n",
            "30     145\n",
            "377    160\n",
            "535    130\n",
            "807    108\n",
            "793    125\n",
            "363    120\n",
            "583    142\n",
            "165    140\n",
            "483    120\n",
            "773    120\n",
            "551    120\n",
            "768    130\n",
            "694    120\n",
            "718    165\n",
            "312    125\n",
            "713    140\n",
            "309     95\n",
            "846    118\n",
            "616    115\n",
            "355    145\n",
            "39     150\n",
            "231    130\n",
            "822    105\n",
            "603    155\n",
            "Name: RestingBP, dtype: int64\n"
          ]
        }
      ]
    },
    {
      "source": [
        "residuals = y_test - y_pred\n",
        "plt.hist(residuals, bins=20)\n",
        "plt.xlabel(\"Residuals\")\n",
        "plt.ylabel(\"Frequency\")\n",
        "plt.title(\"Histogram of Residuals\")\n",
        "plt.show()\n",
        "#Histogram of Residuals:\n",
        "\n",
        "#This plot shows the distribution of the residuals.\n",
        "#Ideal Pattern: A bell-shaped histogram centered around 0 indicates normally distributed errors.\n",
        "#Interpretation: Skewness or multiple peaks in the histogram suggest non-normality.'''"
      ],
      "cell_type": "code",
      "metadata": {
        "colab": {
          "base_uri": "https://localhost:8080/",
          "height": 472
        },
        "id": "KrA7JiRVzZkS",
        "outputId": "30f22524-6aaa-4f7d-95c7-9b86f3eb546b",
        "collapsed": true
      },
      "execution_count": null,
      "outputs": [
        {
          "output_type": "display_data",
          "data": {
            "text/plain": [
              "<Figure size 640x480 with 1 Axes>"
            ],
            "image/png": "[encoded data removed]"
          },
          "metadata": {}
        }
      ]
    }
  ]
}