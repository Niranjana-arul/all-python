{
  "nbformat": 4,
  "nbformat_minor": 0,
  "metadata": {
    "colab": {
      "provenance": []
    },
    "kernelspec": {
      "name": "python3",
      "display_name": "Python 3"
    },
    "language_info": {
      "name": "python"
    }
  },
  "cells": [
    {
      "cell_type": "markdown",
      "source": [
        "# **Ex. No.1 - Create and Manipulate Basic Numpy Arrays for Medical Data**\n",
        "\n",
        "Niranjana A\n",
        "\n",
        "220301061\n",
        "\n",
        "III-BME-\"A\""
      ],
      "metadata": {
        "id": "feP3466kHiYu"
      }
    },
    {
      "cell_type": "code",
      "source": [
        "import numpy as np\n",
        "import matplotlib.pyplot as plt\n",
        "\n",
        "#creating an array of ages\n",
        "arr1 = np.random.randint(0,12,(10,3))\n",
        "print(arr1)\n",
        "print()\n",
        "\n",
        "#Reshaping an array\n",
        "Reshaped_array = arr1.reshape((6,5))\n",
        "Flattened_array = arr1.reshape(-1)\n",
        "print(Reshaped_array)\n",
        "print()\n",
        "print(Flattened_array)\n",
        "print()\n",
        "\n",
        "#slicing an array\n",
        "sliced_array = arr1[0:2,1:3]\n",
        "print(sliced_array)\n",
        "print()\n",
        "\n",
        "#array indexing\n",
        "print(arr1[1,2])\n",
        "print()\n",
        "print(arr1[1,0:2])\n",
        "print()\n",
        "print(arr1[0:2,2])\n",
        "print()\n",
        "\n",
        "#an array of glucose values in urine\n",
        "glucose_levels = np.random.uniform(0, 30, (10,3))\n",
        "glucose_levels = np.round(glucose_levels, 2)\n",
        "print(glucose_levels)\n",
        "print()"
      ],
      "metadata": {
        "id": "knTCp3n6JroP",
        "colab": {
          "base_uri": "https://localhost:8080/"
        },
        "outputId": "3a812a67-0632-4c56-c51b-6338d8c12ae0"
      },
      "execution_count": null,
      "outputs": [
        {
          "output_type": "stream",
          "name": "stdout",
          "text": [
            "[[ 9  6 10]\n",
            " [ 1 10 10]\n",
            " [ 6  6  4]\n",
            " [ 1 11 10]\n",
            " [ 7  4  8]\n",
            " [ 8  2  4]\n",
            " [10  1  1]\n",
            " [ 1  7  7]\n",
            " [ 2  5  2]\n",
            " [ 6  5  2]]\n",
            "\n",
            "[[ 9  6 10  1 10]\n",
            " [10  6  6  4  1]\n",
            " [11 10  7  4  8]\n",
            " [ 8  2  4 10  1]\n",
            " [ 1  1  7  7  2]\n",
            " [ 5  2  6  5  2]]\n",
            "\n",
            "[ 9  6 10  1 10 10  6  6  4  1 11 10  7  4  8  8  2  4 10  1  1  1  7  7\n",
            "  2  5  2  6  5  2]\n",
            "\n",
            "[[ 6 10]\n",
            " [10 10]]\n",
            "\n",
            "10\n",
            "\n",
            "[ 1 10]\n",
            "\n",
            "[10 10]\n",
            "\n",
            "[[ 3.65  6.6  20.09]\n",
            " [26.37  8.08 23.6 ]\n",
            " [19.07  9.55  7.75]\n",
            " [ 3.34 17.28  4.17]\n",
            " [ 1.18 20.18  1.86]\n",
            " [14.38 21.25 13.55]\n",
            " [25.86  5.67  7.04]\n",
            " [25.42  1.11 27.75]\n",
            " [ 0.27 10.85 29.18]\n",
            " [ 7.43  6.85  5.24]]\n",
            "\n"
          ]
        }
      ]
    },
    {
      "cell_type": "code",
      "source": [
        "#array addition\n",
        "addition_arrays = arr1 + glucose_levels\n",
        "print(addition_arrays)\n",
        "print()\n",
        "#adding a value to an array\n",
        "add_value = arr1 + 2\n",
        "print(add_value)\n",
        "print()\n",
        "\n",
        "#array subtraction\n",
        "subtraction = glucose_levels - arr1\n",
        "print(subtraction)\n",
        "print()\n",
        "#subtracting a value from array\n",
        "sub_value = arr1 - 2\n",
        "print(sub_value)\n",
        "print()"
      ],
      "metadata": {
        "colab": {
          "base_uri": "https://localhost:8080/"
        },
        "id": "igywREuf82_h",
        "outputId": "119a180a-807a-4a0f-c27e-1e3329f9c69f"
      },
      "execution_count": null,
      "outputs": [
        {
          "output_type": "stream",
          "name": "stdout",
          "text": [
            "[[12.65 12.6  30.09]\n",
            " [27.37 18.08 33.6 ]\n",
            " [25.07 15.55 11.75]\n",
            " [ 4.34 28.28 14.17]\n",
            " [ 8.18 24.18  9.86]\n",
            " [22.38 23.25 17.55]\n",
            " [35.86  6.67  8.04]\n",
            " [26.42  8.11 34.75]\n",
            " [ 2.27 15.85 31.18]\n",
            " [13.43 11.85  7.24]]\n",
            "\n",
            "[[11  8 12]\n",
            " [ 3 12 12]\n",
            " [ 8  8  6]\n",
            " [ 3 13 12]\n",
            " [ 9  6 10]\n",
            " [10  4  6]\n",
            " [12  3  3]\n",
            " [ 3  9  9]\n",
            " [ 4  7  4]\n",
            " [ 8  7  4]]\n",
            "\n",
            "[[-5.35  0.6  10.09]\n",
            " [25.37 -1.92 13.6 ]\n",
            " [13.07  3.55  3.75]\n",
            " [ 2.34  6.28 -5.83]\n",
            " [-5.82 16.18 -6.14]\n",
            " [ 6.38 19.25  9.55]\n",
            " [15.86  4.67  6.04]\n",
            " [24.42 -5.89 20.75]\n",
            " [-1.73  5.85 27.18]\n",
            " [ 1.43  1.85  3.24]]\n",
            "\n",
            "[[ 7  4  8]\n",
            " [-1  8  8]\n",
            " [ 4  4  2]\n",
            " [-1  9  8]\n",
            " [ 5  2  6]\n",
            " [ 6  0  2]\n",
            " [ 8 -1 -1]\n",
            " [-1  5  5]\n",
            " [ 0  3  0]\n",
            " [ 4  3  0]]\n",
            "\n"
          ]
        }
      ]
    },
    {
      "cell_type": "code",
      "source": [
        "#array multiplication\n",
        "multiplication = arr1 * glucose_levels\n",
        "print(multiplication)\n",
        "print()\n",
        "#multiplying a  value to an array\n",
        "mul_value = arr1 * 3\n",
        "print(mul_value)\n",
        "print()\n",
        "\n",
        "#array division\n",
        "division = arr1 / glucose_levels\n",
        "print(division)\n",
        "print()\n",
        "#dividing an array by a value\n",
        "div_value = arr1 / 2\n",
        "print(div_value)\n",
        "print()"
      ],
      "metadata": {
        "colab": {
          "base_uri": "https://localhost:8080/"
        },
        "id": "giRAX5g99ECv",
        "outputId": "0fe423af-9df8-4d22-9e4e-614791264917"
      },
      "execution_count": null,
      "outputs": [
        {
          "output_type": "stream",
          "name": "stdout",
          "text": [
            "[[ 32.85  39.6  200.9 ]\n",
            " [ 26.37  80.8  236.  ]\n",
            " [114.42  57.3   31.  ]\n",
            " [  3.34 190.08  41.7 ]\n",
            " [  8.26  80.72  14.88]\n",
            " [115.04  42.5   54.2 ]\n",
            " [258.6    5.67   7.04]\n",
            " [ 25.42   7.77 194.25]\n",
            " [  0.54  54.25  58.36]\n",
            " [ 44.58  34.25  10.48]]\n",
            "\n",
            "[[27 18 30]\n",
            " [ 3 30 30]\n",
            " [18 18 12]\n",
            " [ 3 33 30]\n",
            " [21 12 24]\n",
            " [24  6 12]\n",
            " [30  3  3]\n",
            " [ 3 21 21]\n",
            " [ 6 15  6]\n",
            " [18 15  6]]\n",
            "\n",
            "[[2.46575342 0.90909091 0.49776008]\n",
            " [0.03792188 1.23762376 0.42372881]\n",
            " [0.31463031 0.62827225 0.51612903]\n",
            " [0.2994012  0.63657407 2.39808153]\n",
            " [5.93220339 0.19821606 4.30107527]\n",
            " [0.55632823 0.09411765 0.29520295]\n",
            " [0.3866976  0.17636684 0.14204545]\n",
            " [0.0393391  6.30630631 0.25225225]\n",
            " [7.40740741 0.46082949 0.0685401 ]\n",
            " [0.80753701 0.72992701 0.38167939]]\n",
            "\n",
            "[[4.5 3.  5. ]\n",
            " [0.5 5.  5. ]\n",
            " [3.  3.  2. ]\n",
            " [0.5 5.5 5. ]\n",
            " [3.5 2.  4. ]\n",
            " [4.  1.  2. ]\n",
            " [5.  0.5 0.5]\n",
            " [0.5 3.5 3.5]\n",
            " [1.  2.5 1. ]\n",
            " [3.  2.5 1. ]]\n",
            "\n"
          ]
        }
      ]
    },
    {
      "cell_type": "code",
      "source": [
        "#plotting the data\n",
        "x = glucose_levels[:,:]\n",
        "y = arr1[:,:]\n",
        "plt.scatter(x,y)\n",
        "plt.show()\n",
        "print()"
      ],
      "metadata": {
        "id": "lRhLWEbo9IuQ",
        "outputId": "93fea92d-72e3-4887-d1e1-26bd6eb46db2",
        "colab": {
          "base_uri": "https://localhost:8080/",
          "height": 447
        }
      },
      "execution_count": null,
      "outputs": [
        {
          "output_type": "display_data",
          "data": {
            "text/plain": [
              "<Figure size 640x480 with 1 Axes>"
            ],
            "image/png": "[encoded data removed]"
          },
          "metadata": {}
        },
        {
          "output_type": "stream",
          "name": "stdout",
          "text": [
            "\n"
          ]
        }
      ]
    }
  ]
}